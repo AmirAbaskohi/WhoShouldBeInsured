{
 "cells": [
  {
   "cell_type": "markdown",
   "metadata": {},
   "source": [
    "# Damaging User Ids"
   ]
  },
  {
   "cell_type": "markdown",
   "metadata": {},
   "source": [
    "# Initialization"
   ]
  },
  {
   "cell_type": "code",
   "execution_count": null,
   "metadata": {},
   "outputs": [],
   "source": [
    "!pip3 install xlrd\n",
    "!pip3 install openpyxl"
   ]
  },
  {
   "cell_type": "code",
   "execution_count": null,
   "metadata": {},
   "outputs": [],
   "source": [
    "import numpy as np\n",
    "import pandas as pd\n",
    "\n",
    "from sklearn.model_selection import train_test_split\n",
    "from sklearn.metrics import classification_report\n",
    "from sklearn.metrics import accuracy_score, f1_score, recall_score, precision_score, confusion_matrix\n",
    "from sklearn.utils import shuffle\n",
    "from sklearn import preprocessing\n",
    "from sklearn.preprocessing import StandardScaler\n",
    "from sklearn.feature_selection import mutual_info_classif\n",
    "from sklearn.preprocessing import LabelEncoder\n",
    "\n",
    "import matplotlib.pyplot as plt\n",
    "import seaborn as sns\n",
    "from wordcloud_fa import WordCloudFa\n",
    "from matplotlib.pyplot import figure\n",
    "\n",
    "import re\n",
    "import copy\n",
    "import time\n",
    "import math\n",
    "import datetime\n",
    "import hazm\n",
    "from hazm import stopwords_list\n",
    "from hazm import word_tokenize\n",
    "from cleantext import clean\n",
    "from nltk.corpus import stopwords\n",
    "from collections import Counter\n",
    "\n",
    "import itertools\n",
    "\n",
    "import scipy.stats as stats\n",
    "from tqdm.notebook import tqdm\n",
    "\n",
    "import warnings\n",
    "from pandas.core.common import SettingWithCopyWarning\n",
    "warnings.simplefilter(action=\"ignore\", category=SettingWithCopyWarning)"
   ]
  },
  {
   "cell_type": "code",
   "execution_count": null,
   "metadata": {},
   "outputs": [],
   "source": [
    "tqdm.pandas()"
   ]
  },
  {
   "cell_type": "code",
   "execution_count": null,
   "metadata": {},
   "outputs": [],
   "source": [
    "base_path = \"./data/\"\n",
    "\n",
    "damage_path = 'damages.xlsx'\n",
    "all_damages_path = 'all_damages.xlsx'\n",
    "insurance_path = 'expert_insurance_2100.xlsx'\n",
    "all_achare_path = 'Achar Database.xlsx'"
   ]
  },
  {
   "cell_type": "markdown",
   "metadata": {},
   "source": [
    "# Data reading"
   ]
  },
  {
   "cell_type": "code",
   "execution_count": null,
   "metadata": {},
   "outputs": [],
   "source": [
    "damage_df = pd.read_excel(base_path + damage_path, engine='openpyxl', dtype=str)\n",
    "damage_df.rename(columns={'شماره متخصص': 'phone_number', 'متخصص': 'expert_name'}, inplace=True)\n",
    "damage_df"
   ]
  },
  {
   "cell_type": "code",
   "execution_count": null,
   "metadata": {},
   "outputs": [],
   "source": [
    "all_damages_df = pd.read_excel(base_path + all_damages_path, engine='openpyxl', dtype=str)\n",
    "all_damages_df.rename(columns={'شماره متخصص': 'phone_number', 'اسم متخصص': 'expert_name', 'کد پیگیری': 'tracking-code'}, inplace=True)\n",
    "all_damages_df['phone_number'] = all_damages_df['phone_number'].progress_apply(lambda d: '0' + d[2:])\n",
    "all_damages_df"
   ]
  },
  {
   "cell_type": "code",
   "execution_count": null,
   "metadata": {},
   "outputs": [],
   "source": [
    "insurance_df = pd.read_excel(base_path + insurance_path, engine='openpyxl', dtype=str)\n",
    "insurance_df.rename(columns={\"شماره تلفن همراه',\": 'phone_number', 'نام': 'expert_fname', 'نام خانوادگی': 'expert_lname', 'کد ملی': 'national_code', 'شماره شناسنامه': 'national_number'}, inplace=True)\n",
    "insurance_df['phone_number'] = insurance_df['phone_number'].progress_apply(lambda d: '0' + d[2:])\n",
    "insurance_df"
   ]
  },
  {
   "cell_type": "code",
   "execution_count": null,
   "metadata": {},
   "outputs": [],
   "source": [
    "achare_df = pd.read_excel(base_path + all_achare_path, engine='openpyxl', usecols=['نام و نام خانوادگی', 'کد ملی', 'شماره تلفن ثابت', 'شماره تلفن همراه', 'محل تولد', 'تاریخ تولد', 'شماره شناسنامه', 'تاریخ عضویت', 'نوع همکاری', 'زمینه کاری اصلی 1', 'زمینه کاری فرعی 1'], dtype = str) \n",
    "achare_df.rename(columns={\"شماره تلفن همراه\": 'phone_number', 'نام و نام خانوادگی': 'expert_name', 'کد ملی': 'national_code', 'شماره شناسنامه': 'national_number'}, inplace=True)\n",
    "achare_df['phone_number'] = achare_df['phone_number'].progress_apply(lambda n: str(n))\n",
    "achare_df['national_code'] = achare_df['national_code'].progress_apply(lambda i: str(i))\n",
    "achare_df = achare_df[achare_df['national_code'] != 'nan']\n",
    "achare_df"
   ]
  },
  {
   "cell_type": "code",
   "execution_count": null,
   "metadata": {},
   "outputs": [],
   "source": [
    "damage_df['phone_number'] = damage_df['phone_number'].apply(lambda n: re.sub('\\D', '', n))\n",
    "all_damages_df['phone_number'] = all_damages_df['phone_number'].apply(lambda n: re.sub('\\D', '', n))\n",
    "insurance_df['phone_number'] = insurance_df['phone_number'].apply(lambda n: re.sub('\\D', '', n))\n",
    "achare_df['phone_number'] = achare_df['phone_number'].apply(lambda n: re.sub('\\D', '', n))"
   ]
  },
  {
   "cell_type": "markdown",
   "metadata": {},
   "source": [
    "# Required users"
   ]
  },
  {
   "cell_type": "code",
   "execution_count": null,
   "metadata": {},
   "outputs": [],
   "source": [
    "damaging_users = pd.DataFrame({})"
   ]
  },
  {
   "cell_type": "code",
   "execution_count": null,
   "metadata": {},
   "outputs": [],
   "source": [
    "damaging_users['expert_name'] = damage_df['expert_name'].append(all_damages_df['expert_name'])\n",
    "damaging_users['phone_number'] = damage_df['phone_number'].append(all_damages_df['phone_number'])\n",
    "damaging_users = damaging_users.drop_duplicates(subset=['phone_number'], keep='first')\n",
    "damaging_users"
   ]
  },
  {
   "cell_type": "code",
   "execution_count": null,
   "metadata": {},
   "outputs": [],
   "source": [
    "available_in_2100 = set(insurance_df['phone_number'].tolist())\n",
    "available_in_achare = set(achare_df['phone_number'].tolist())"
   ]
  },
  {
   "cell_type": "code",
   "execution_count": null,
   "metadata": {},
   "outputs": [],
   "source": [
    "available_users_in_2100 = damaging_users[damaging_users['phone_number'].isin(available_in_2100)]\n",
    "not_available_users_in_2100 = damaging_users.drop(available_users_in_2100.index)\n",
    "not_available_users_in_2100"
   ]
  },
  {
   "cell_type": "code",
   "execution_count": null,
   "metadata": {},
   "outputs": [],
   "source": [
    "available_users_in_achare = not_available_users_in_2100[not_available_users_in_2100['phone_number'].isin(available_in_achare)]\n",
    "not_available_users_in_achare = not_available_users_in_2100.drop(available_users_in_achare.index)"
   ]
  },
  {
   "cell_type": "code",
   "execution_count": null,
   "metadata": {},
   "outputs": [],
   "source": [
    "not_available_users_in_achare.iloc[6]['phone_number']"
   ]
  },
  {
   "cell_type": "code",
   "execution_count": null,
   "metadata": {},
   "outputs": [],
   "source": [
    "available_users_in_achare"
   ]
  },
  {
   "cell_type": "code",
   "execution_count": null,
   "metadata": {},
   "outputs": [],
   "source": [
    "not_available_users_in_achare"
   ]
  },
  {
   "cell_type": "code",
   "execution_count": null,
   "metadata": {},
   "outputs": [],
   "source": [
    "def get_achare_info(provided_info, col_name, provided_col='phone_number'):\n",
    "    achare_info = achare_df[achare_df[provided_col] == provided_info].iloc[0]\n",
    "    return achare_info[col_name]"
   ]
  },
  {
   "cell_type": "code",
   "execution_count": null,
   "metadata": {},
   "outputs": [],
   "source": [
    "available_users_in_achare['national_code'] = available_users_in_achare['phone_number'].progress_apply(lambda n: get_achare_info(n, 'national_code'))\n",
    "available_users_in_achare['national_number'] = available_users_in_achare['phone_number'].progress_apply(lambda n: get_achare_info(n, 'national_number'))\n",
    "available_users_in_achare"
   ]
  },
  {
   "cell_type": "code",
   "execution_count": null,
   "metadata": {},
   "outputs": [],
   "source": [
    "available_users_in_achare.to_csv(base_path + 'achare_available_users.csv', mode='w', encoding='utf-8', index=False)\n",
    "not_available_users_in_achare.to_csv(base_path + 'achare_required_users.csv', mode='w', encoding='utf-8', index=False)"
   ]
  }
 ],
 "metadata": {
  "kernelspec": {
   "display_name": "Python 3",
   "language": "python",
   "name": "python3"
  },
  "language_info": {
   "codemirror_mode": {
    "name": "ipython",
    "version": 3
   },
   "file_extension": ".py",
   "mimetype": "text/x-python",
   "name": "python",
   "nbconvert_exporter": "python",
   "pygments_lexer": "ipython3",
   "version": "3.6.9"
  }
 },
 "nbformat": 4,
 "nbformat_minor": 4
}
